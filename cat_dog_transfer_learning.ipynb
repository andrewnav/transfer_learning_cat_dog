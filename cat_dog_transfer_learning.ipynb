{
  "cells": [
    {
      "cell_type": "code",
      "execution_count": null,
      "metadata": {
        "id": "n9KNrF2J8F_C"
      },
      "outputs": [],
      "source": [
        "import matplotlib.pyplot as plt\n",
        "import numpy as np\n",
        "import os\n",
        "import tensorflow as tf\n",
        "import tensorflow_datasets as tfds\n",
        "from tensorflow.keras import layers\n",
        "from tensorflow.keras.models import Sequential\n"
      ]
    },
    {
      "cell_type": "code",
      "execution_count": null,
      "metadata": {
        "id": "DIbl4mf4_AwS"
      },
      "outputs": [],
      "source": [
        "# Verifica se o TensorFlow está usando GPU\n",
        "print(\"TensorFlow version:\", tf.__version__)\n",
        "print(\"GPU disponível:\", tf.config.list_physical_devices('GPU'))\n"
      ]
    },
    {
      "cell_type": "code",
      "execution_count": null,
      "metadata": {
        "id": "zYH9CyIA_JXf"
      },
      "outputs": [],
      "source": [
        "#Carregar dataset cats_vs_dogs do TensorFlow DS\n",
        "(train_ds, val_ds), ds_info = tfds.load(\n",
        "    'cats_vs_dogs',\n",
        "    split=['train[:80%]', 'train[80%:]'],\n",
        "    shuffle_files=True,\n",
        "    as_supervised=True,\n",
        "    with_info=True\n",
        ")\n",
        "\n",
        "class_names = ds_info.features['label'].names\n",
        "print(\"Classes:\", class_names)\n",
        "\n"
      ]
    },
    {
      "cell_type": "code",
      "execution_count": null,
      "metadata": {
        "id": "FptqAa0AoJsn"
      },
      "outputs": [],
      "source": [
        "#Pré-processamento: redimensionar, normalizar e criar batches\n",
        "IMG_SIZE = (160, 160)\n",
        "BATCH_SIZE = 32\n",
        "\n",
        "def format_image(image, label):\n",
        "    image = tf.image.resize(image, IMG_SIZE)\n",
        "    image = image / 255.0  # normalização\n",
        "    return image, label\n",
        "\n",
        "train_batches = (\n",
        "    train_ds\n",
        "    .shuffle(1000)\n",
        "    .map(format_image, num_parallel_calls=tf.data.AUTOTUNE)\n",
        "    .batch(BATCH_SIZE)\n",
        "    .prefetch(tf.data.AUTOTUNE)\n",
        ")\n",
        "\n",
        "val_batches = (\n",
        "    val_ds\n",
        "    .map(format_image, num_parallel_calls=tf.data.AUTOTUNE)\n",
        "    .batch(BATCH_SIZE)\n",
        "    .prefetch(tf.data.AUTOTUNE)\n",
        ")\n",
        "\n",
        "# Pegamos um batch do dataset e mostramos 9 imagens\n",
        "for image_batch, label_batch in train_batches.take(1):\n",
        "    plt.figure(figsize=(10, 10))\n",
        "    for i in range(9):\n",
        "        ax = plt.subplot(3, 3, i + 1)\n",
        "        plt.imshow((image_batch[i].numpy() * 255).astype(\"uint8\"))\n",
        "        plt.title(class_names[label_batch[i].numpy()])\n",
        "        plt.axis(\"off\")\n"
      ]
    },
    {
      "cell_type": "code",
      "execution_count": null,
      "metadata": {
        "id": "RLtY76J4oPr0"
      },
      "outputs": [],
      "source": [
        "#Carregar o modelo base pré-treinado (MobileNetV2)\n",
        "base_model = tf.keras.applications.MobileNetV2(\n",
        "    input_shape=IMG_SIZE + (3,),\n",
        "    include_top=False,\n",
        "    weights='imagenet'\n",
        ")\n",
        "base_model.trainable = False  # congelar as camadas\n"
      ]
    },
    {
      "cell_type": "code",
      "execution_count": null,
      "metadata": {
        "id": "TEcCEpZlomKD"
      },
      "outputs": [],
      "source": [
        "#Criar o modelo com a cabeça de classificação\n",
        "model = Sequential([\n",
        "    base_model,\n",
        "    layers.GlobalAveragePooling2D(),\n",
        "    layers.Dense(1)  # Saída binária (gato ou cachorro)\n",
        "])\n"
      ]
    },
    {
      "cell_type": "code",
      "execution_count": null,
      "metadata": {
        "id": "Am6_nxkgosWO"
      },
      "outputs": [],
      "source": [
        "#Compilar o modelo\n",
        "model.compile(\n",
        "    optimizer=tf.keras.optimizers.Adam(),\n",
        "    loss=tf.keras.losses.BinaryCrossentropy(from_logits=True),\n",
        "    metrics=['accuracy']\n",
        ")\n"
      ]
    },
    {
      "cell_type": "code",
      "execution_count": null,
      "metadata": {
        "id": "O95nSmLRowwU"
      },
      "outputs": [],
      "source": [
        "#Treinar o modelo\n",
        "EPOCHS = 5\n",
        "history = model.fit(\n",
        "    train_batches,\n",
        "    validation_data=val_batches,\n",
        "    epochs=EPOCHS\n",
        ")\n"
      ]
    },
    {
      "cell_type": "code",
      "execution_count": null,
      "metadata": {
        "id": "7l3xU1oCo1e_"
      },
      "outputs": [],
      "source": [
        "#Avaliar o modelo\n",
        "loss, accuracy = model.evaluate(val_batches)\n",
        "print(f\"Acurácia: {accuracy*100:.2f}%\")\n"
      ]
    },
    {
      "cell_type": "code",
      "execution_count": null,
      "metadata": {
        "id": "HInhlh9-o_E_"
      },
      "outputs": [],
      "source": [
        "#Testar com imagem nova (upload manual)\n",
        "from google.colab import files\n",
        "uploaded = files.upload()\n",
        "\n",
        "for fn in uploaded.keys():\n",
        "    path = fn\n",
        "\n",
        "img = tf.keras.preprocessing.image.load_img(path, target_size=IMG_SIZE)\n",
        "img_array = tf.keras.preprocessing.image.img_to_array(img)\n",
        "img_array = tf.expand_dims(img_array, 0) / 255.0  # normalização\n",
        "\n",
        "predictions = model.predict(img_array)\n",
        "score = tf.nn.sigmoid(predictions[0])\n",
        "score_value = score.numpy().item()  # extrai escalar\n",
        "\n",
        "print(f\"Confiança de que é cachorro: {score_value*100:.2f}%\")\n",
        "\n",
        "if score_value > 0.5:\n",
        "    print(\"→ Predição: 🐶\")\n",
        "else:\n",
        "    print(\"→ Predição: 🐱\")\n"
      ]
    }
  ],
  "metadata": {
    "colab": {
      "provenance": []
    },
    "kernelspec": {
      "display_name": "Python 3",
      "name": "python3"
    },
    "language_info": {
      "name": "python"
    }
  },
  "nbformat": 4,
  "nbformat_minor": 0
}